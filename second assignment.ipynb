{
 "cells": [
  {
   "cell_type": "markdown",
   "id": "0618b42b",
   "metadata": {},
   "source": [
    "Q1. Which keyword is used to create a function? Create a function to return a list of odd numbers in the\n",
    "range of 1 to 25."
   ]
  },
  {
   "cell_type": "markdown",
   "id": "2ed3be0c",
   "metadata": {},
   "source": [
    "Ans:- def function is used to create a funcion"
   ]
  },
  {
   "cell_type": "code",
   "execution_count": 1,
   "id": "ed184d95",
   "metadata": {},
   "outputs": [
    {
     "data": {
      "text/plain": [
       "[1, 3, 5, 7, 9, 11, 13, 15, 17, 19, 21, 23, 25]"
      ]
     },
     "execution_count": 1,
     "metadata": {},
     "output_type": "execute_result"
    }
   ],
   "source": [
    "def odd_num(list):\n",
    "    list=[]\n",
    "    for i in range(26):\n",
    "        if i%2!=0:\n",
    "            list.append(i)\n",
    "    return list\n",
    "\n",
    "odd_num(list)"
   ]
  },
  {
   "cell_type": "markdown",
   "id": "ed2ec18c",
   "metadata": {},
   "source": [
    "Q2. Why *args and **kwargs is used in some functions? Create a function each for *args and **kwargs\n",
    "to demonstrate their use."
   ]
  },
  {
   "cell_type": "markdown",
   "id": "3dbb68cc",
   "metadata": {},
   "source": [
    "Ans:- *args passes variable number of non-keyword arguments and on which operation of the tuple can be\n",
    "       performed.\n",
    "      **kwargs passes variable number of keyword argument dictionary to function on which operation of\n",
    "       a dictionary can be performed."
   ]
  },
  {
   "cell_type": "code",
   "execution_count": 2,
   "id": "decc26b6",
   "metadata": {},
   "outputs": [
    {
     "data": {
      "text/plain": [
       "('Amit', 'sweta', 'lokesh', 'kamlesh', [4, 6, 7, 8, 4, 2], 54.55, 55, 56)"
      ]
     },
     "execution_count": 2,
     "metadata": {},
     "output_type": "execute_result"
    }
   ],
   "source": [
    "# use of *args\n",
    "\n",
    "def amy(*args):\n",
    "    return args\n",
    "\n",
    "amy(\"Amit\", \"sweta\", \"lokesh\", \"kamlesh\", [4,6,7,8,4,2], 54.55, 55,56)"
   ]
  },
  {
   "cell_type": "code",
   "execution_count": 4,
   "id": "394e308c",
   "metadata": {},
   "outputs": [
    {
     "data": {
      "text/plain": [
       "{'A': 'sweta', 'b': 'Amit', 'c': [3, 4, 5, 6, 7, 89], 'd': 67.55, 'e': 55}"
      ]
     },
     "execution_count": 4,
     "metadata": {},
     "output_type": "execute_result"
    }
   ],
   "source": [
    "#  use of **kwargs\n",
    "\n",
    "def num(**kwargs):\n",
    "    return kwargs\n",
    "    \n",
    "num(A =\"sweta\", b=\"Amit\", c=[3,4,5,6,7,89], d=67.55, e=55)"
   ]
  },
  {
   "cell_type": "markdown",
   "id": "b5b712f5",
   "metadata": {},
   "source": [
    "Q3.  What is an iterator in python? Name the method used to initialise the iterator object and the           method used for iteration. Use these methods to print the first five elements of the given \n",
    "       list[2,4,6,8,10,12,14,16,18,20]."
   ]
  },
  {
   "cell_type": "markdown",
   "id": "5d73cce8",
   "metadata": {},
   "source": [
    "Ans:- An iterator is an object that contains a countable number of values. An iterator is an object \n",
    "       that can be itered upon, meaning that you can traverse through all the values."
   ]
  },
  {
   "cell_type": "code",
   "execution_count": 6,
   "id": "7fcb3ffe",
   "metadata": {},
   "outputs": [
    {
     "name": "stdout",
     "output_type": "stream",
     "text": [
      "2\n",
      "4\n",
      "6\n",
      "8\n",
      "10\n"
     ]
    }
   ],
   "source": [
    "a = iter([2,4,6,8,10,12,14,16,18,20])\n",
    "\n",
    "for i in range(5):\n",
    "    print(next(a))"
   ]
  },
  {
   "cell_type": "markdown",
   "id": "85a721e5",
   "metadata": {},
   "source": [
    "Q4. What is a generator function in python? Why yield keyword is used? Give an example of a generator\n",
    "    function."
   ]
  },
  {
   "cell_type": "markdown",
   "id": "bb69bacc",
   "metadata": {},
   "source": [
    "Ans: In python, a generator is a function that return an iterator that produces a sequence of values       when iterated over. Generators are useful when we want to produce a large sequence of values, but      we don't want to store all of them in memory at once\n",
    "\n",
    "  yield keyword is used to create a generator function. A type of function that is memory efficient      and can be used like an iterator object. "
   ]
  },
  {
   "cell_type": "code",
   "execution_count": 7,
   "id": "6e535145",
   "metadata": {},
   "outputs": [
    {
     "name": "stdout",
     "output_type": "stream",
     "text": [
      "1\n",
      "3\n",
      "5\n",
      "7\n",
      "9\n",
      "11\n",
      "13\n",
      "15\n"
     ]
    }
   ],
   "source": [
    "def generator_func(a):\n",
    "    count = 1\n",
    "    while count<=a:\n",
    "        yield count\n",
    "        count+=1\n",
    "        \n",
    "b = generator_func(15)\n",
    "\n",
    "for i in b:\n",
    "    if i%2!=0:\n",
    "        print(i)"
   ]
  },
  {
   "cell_type": "markdown",
   "id": "b8158fb8",
   "metadata": {},
   "source": [
    "Q5. Create a generator function for prime numbers less than 1000. Use the next() method to print the\n",
    "first 20 prime numbers."
   ]
  },
  {
   "cell_type": "code",
   "execution_count": 21,
   "id": "d13f75a6",
   "metadata": {},
   "outputs": [
    {
     "name": "stdout",
     "output_type": "stream",
     "text": [
      "2 3 5 7 11 13 17 19 23 29 31 37 41 43 47 53 59 61 67 71 "
     ]
    }
   ],
   "source": [
    "def prime_num():\n",
    "    prime =2\n",
    "    while prime<1000:\n",
    "        count=0\n",
    "        for i in range(2,prime+1):\n",
    "            if prime%i==0:\n",
    "                count+=1\n",
    "        if count==1:\n",
    "            yield prime\n",
    "        prime+=1\n",
    "\n",
    "x = prime_num()\n",
    "for i in range(20):\n",
    "    print(next(x),end=\" \")"
   ]
  },
  {
   "cell_type": "markdown",
   "id": "b3e70cc6",
   "metadata": {},
   "source": [
    "Q6. Write a python program to print the first 10 Fibonacci numbers using a while loop."
   ]
  },
  {
   "cell_type": "code",
   "execution_count": 22,
   "id": "e7c6c375",
   "metadata": {},
   "outputs": [
    {
     "name": "stdout",
     "output_type": "stream",
     "text": [
      "0 1 1 2 3 5 8 13 21 34\n"
     ]
    }
   ],
   "source": [
    "def fibbonacci_num(n):\n",
    "    n1,n2=0,1\n",
    "    sum=0\n",
    "    if n<=0:\n",
    "        print(\"please enter number greater\")\n",
    "    else:\n",
    "        while sum<=n:\n",
    "            print(sum,end=\" \")\n",
    "            n1=n2\n",
    "            n2=sum\n",
    "            sum =n1+n2\n",
    "        return sum\n",
    "    \n",
    "print(fibbonacci_num(30))"
   ]
  },
  {
   "cell_type": "markdown",
   "id": "9c741f4a",
   "metadata": {},
   "source": [
    "Q7. Write a List Comprehension to iterate through the given string: ‘pwskills’.\n",
    "Expected output: ['p', 'w', 's', 'k', 'i', 'l', 'l', 's']"
   ]
  },
  {
   "cell_type": "code",
   "execution_count": 23,
   "id": "f69a9f66",
   "metadata": {},
   "outputs": [
    {
     "name": "stdout",
     "output_type": "stream",
     "text": [
      "['p', 'w', 's', 'k', 'i', 'l', 'l', 's']\n"
     ]
    }
   ],
   "source": [
    "str = 'pwskills'\n",
    "str2 = [i for i in str]\n",
    "print(str2)"
   ]
  },
  {
   "cell_type": "markdown",
   "id": "d06f98b1",
   "metadata": {},
   "source": [
    "Q8. Write a python program to check whether a given number is Palindrome or not using a while loop."
   ]
  },
  {
   "cell_type": "code",
   "execution_count": 25,
   "id": "20c337ba",
   "metadata": {},
   "outputs": [
    {
     "name": "stdout",
     "output_type": "stream",
     "text": [
      "enter the number121\n",
      "yes,It's a palindrome number\n"
     ]
    }
   ],
   "source": [
    "num=input(\"enter the number\")\n",
    "reverse=num[::-1]\n",
    "if (num==reverse):\n",
    "    print(\"yes,It's a palindrome number\")\n",
    "else:\n",
    "    print(\"No, It's not a palindrome number\")"
   ]
  },
  {
   "cell_type": "markdown",
   "id": "a63b3d52",
   "metadata": {},
   "source": [
    "Q9. Write a code to print odd numbers from 1 to 100 using list comprehension.\n",
    "Note: Use a list comprehension to create a list from 1 to 100 and use another List comprehension to filter\n",
    "out odd numbers."
   ]
  },
  {
   "cell_type": "code",
   "execution_count": 26,
   "id": "b91fe943",
   "metadata": {},
   "outputs": [
    {
     "name": "stdout",
     "output_type": "stream",
     "text": [
      "[[1, 3, 5, 7, 9, 11, 13, 15, 17, 19, 21, 23, 25, 27, 29, 31, 33, 35, 37, 39, 41, 43, 45, 47, 49, 51, 53, 55, 57, 59, 61, 63, 65, 67, 69, 71, 73, 75, 77, 79, 81, 83, 85, 87, 89, 91, 93, 95, 97, 99]]\n"
     ]
    }
   ],
   "source": [
    "x=[i for i in range(1,100) if i%2!=0]\n",
    "list=[]\n",
    "list.append(x)\n",
    "print(list)"
   ]
  },
  {
   "cell_type": "code",
   "execution_count": null,
   "id": "c2993952",
   "metadata": {},
   "outputs": [],
   "source": []
  }
 ],
 "metadata": {
  "kernelspec": {
   "display_name": "Python 3 (ipykernel)",
   "language": "python",
   "name": "python3"
  },
  "language_info": {
   "codemirror_mode": {
    "name": "ipython",
    "version": 3
   },
   "file_extension": ".py",
   "mimetype": "text/x-python",
   "name": "python",
   "nbconvert_exporter": "python",
   "pygments_lexer": "ipython3",
   "version": "3.11.0"
  }
 },
 "nbformat": 4,
 "nbformat_minor": 5
}
